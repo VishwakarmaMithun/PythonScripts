{
  "nbformat": 4,
  "nbformat_minor": 0,
  "metadata": {
    "colab": {
      "provenance": [],
      "collapsed_sections": [],
      "authorship_tag": "ABX9TyMVzUyAvDLDmfM7jq1bNQGT",
      "include_colab_link": true
    },
    "kernelspec": {
      "name": "python3",
      "display_name": "Python 3"
    },
    "language_info": {
      "name": "python"
    }
  },
  "cells": [
    {
      "cell_type": "markdown",
      "metadata": {
        "id": "view-in-github",
        "colab_type": "text"
      },
      "source": [
        "<a href=\"https://colab.research.google.com/github/VishwakarmaMithun/PythonScripts/blob/main/AverageofNumber.ipynb\" target=\"_parent\"><img src=\"https://colab.research.google.com/assets/colab-badge.svg\" alt=\"Open In Colab\"/></a>"
      ]
    },
    {
      "cell_type": "code",
      "execution_count": null,
      "metadata": {
        "colab": {
          "base_uri": "https://localhost:8080/"
        },
        "id": "YcZVxc5fNpjc",
        "outputId": "1e99e24c-fb8a-4255-db54-31ce31a2753b"
      },
      "outputs": [
        {
          "output_type": "stream",
          "name": "stdout",
          "text": [
            "Enter the list size3\n",
            "Enter the number:1\n",
            "Enter the number:2\n",
            "Enter the number:3\n",
            "[1, 2, 3]\n",
            "Average of this list is: 2.0\n"
          ]
        }
      ],
      "source": [
        "listSize =int(input(\"Enter the list size\"))\n",
        "myList = []\n",
        "for i in range(0,listSize):\n",
        "  myNum = int(input(\"Enter the number:\"))\n",
        "  myList.append(myNum)\n",
        "print(myList)\n",
        "average = sum(myList)/listSize\n",
        "print(\"Average of this list is:\", round(average,3))"
      ]
    },
    {
      "cell_type": "code",
      "source": [],
      "metadata": {
        "id": "PCWThPjmOzHd"
      },
      "execution_count": null,
      "outputs": []
    }
  ]
}
