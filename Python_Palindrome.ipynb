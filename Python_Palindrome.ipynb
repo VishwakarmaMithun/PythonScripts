{
  "nbformat": 4,
  "nbformat_minor": 0,
  "metadata": {
    "colab": {
      "provenance": [],
      "collapsed_sections": [],
      "authorship_tag": "ABX9TyO7OGwkEeBDtjn/gQ+Ib1l5",
      "include_colab_link": true
    },
    "kernelspec": {
      "name": "python3",
      "display_name": "Python 3"
    },
    "language_info": {
      "name": "python"
    }
  },
  "cells": [
    {
      "cell_type": "markdown",
      "metadata": {
        "id": "view-in-github",
        "colab_type": "text"
      },
      "source": [
        "<a href=\"https://colab.research.google.com/github/VishwakarmaMithun/PythonScripts/blob/main/Python_Palindrome.ipynb\" target=\"_parent\"><img src=\"https://colab.research.google.com/assets/colab-badge.svg\" alt=\"Open In Colab\"/></a>"
      ]
    },
    {
      "cell_type": "code",
      "execution_count": 1,
      "metadata": {
        "id": "x-O-U4lTPXiS"
      },
      "outputs": [],
      "source": [
        "#Check the number is Palin or not"
      ]
    },
    {
      "cell_type": "code",
      "source": [
        "number = int(input(\"Enter the number to check the number is Palindrome or not\"))\n",
        "temp = number \n",
        "reverse = 0\n",
        "while number >0:\n",
        "  digit  = number % 10;\n",
        "  print(\"--------\"+str(digit))\n",
        "  reverse = reverse*10 + digit\n",
        "  print(\"--------\"+str(reverse))\n",
        "  number = number//10\n",
        "  print(\"--------\"+str(number))\n",
        "\n",
        "if(temp == reverse):\n",
        "  print(\"Number is Palin\")\n",
        "else:\n",
        "  print(\"not\")"
      ],
      "metadata": {
        "colab": {
          "base_uri": "https://localhost:8080/"
        },
        "id": "6DlzrfeSpokt",
        "outputId": "9682943e-4418-4bf7-c76d-e6f88abeccf2"
      },
      "execution_count": 9,
      "outputs": [
        {
          "output_type": "stream",
          "name": "stdout",
          "text": [
            "Enter the number to check the number is Palindrome or not1002\n",
            "--------2\n",
            "--------2\n",
            "--------100\n",
            "--------0\n",
            "--------20\n",
            "--------10\n",
            "--------0\n",
            "--------200\n",
            "--------1\n",
            "--------1\n",
            "--------2001\n",
            "--------0\n",
            "not\n"
          ]
        }
      ]
    },
    {
      "cell_type": "code",
      "source": [
        "\n"
      ],
      "metadata": {
        "colab": {
          "base_uri": "https://localhost:8080/",
          "height": 201
        },
        "id": "5liodK8cpyTA",
        "outputId": "55bf5a1c-8c7a-453e-a768-88f7e023a230"
      },
      "execution_count": 3,
      "outputs": [
        {
          "output_type": "error",
          "ename": "KeyboardInterrupt",
          "evalue": "ignored",
          "traceback": [
            "\u001b[0;31m---------------------------------------------------------------------------\u001b[0m",
            "\u001b[0;31mKeyboardInterrupt\u001b[0m                         Traceback (most recent call last)",
            "\u001b[0;32m<ipython-input-3-60da3c968a3e>\u001b[0m in \u001b[0;36m<module>\u001b[0;34m\u001b[0m\n\u001b[1;32m      1\u001b[0m \u001b[0mreverse\u001b[0m \u001b[0;34m=\u001b[0m \u001b[0;36m0\u001b[0m\u001b[0;34m\u001b[0m\u001b[0;34m\u001b[0m\u001b[0m\n\u001b[0;32m----> 2\u001b[0;31m \u001b[0;32mwhile\u001b[0m \u001b[0mnumber\u001b[0m \u001b[0;34m>\u001b[0m\u001b[0;36m0\u001b[0m \u001b[0;34m:\u001b[0m\u001b[0;34m\u001b[0m\u001b[0;34m\u001b[0m\u001b[0m\n\u001b[0m\u001b[1;32m      3\u001b[0m   \u001b[0;32mpass\u001b[0m\u001b[0;34m\u001b[0m\u001b[0;34m\u001b[0m\u001b[0m\n",
            "\u001b[0;31mKeyboardInterrupt\u001b[0m: "
          ]
        }
      ]
    }
  ]
}