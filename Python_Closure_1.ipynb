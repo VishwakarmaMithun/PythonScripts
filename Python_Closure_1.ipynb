{
  "nbformat": 4,
  "nbformat_minor": 0,
  "metadata": {
    "colab": {
      "provenance": [],
      "authorship_tag": "ABX9TyPohkIJp0oedWoelVoA0I8+",
      "include_colab_link": true
    },
    "kernelspec": {
      "name": "python3",
      "display_name": "Python 3"
    },
    "language_info": {
      "name": "python"
    }
  },
  "cells": [
    {
      "cell_type": "markdown",
      "metadata": {
        "id": "view-in-github",
        "colab_type": "text"
      },
      "source": [
        "<a href=\"https://colab.research.google.com/github/VishwakarmaMithun/PythonScripts/blob/main/Python_Closure_1.ipynb\" target=\"_parent\"><img src=\"https://colab.research.google.com/assets/colab-badge.svg\" alt=\"Open In Colab\"/></a>"
      ]
    },
    {
      "cell_type": "code",
      "execution_count": 2,
      "metadata": {
        "colab": {
          "base_uri": "https://localhost:8080/"
        },
        "id": "1_g0LRMV_An_",
        "outputId": "2581c00c-c78e-40bb-de85-87d7f153f20c"
      },
      "outputs": [
        {
          "output_type": "stream",
          "name": "stdout",
          "text": [
            "python rockes\n"
          ]
        }
      ],
      "source": [
        "#free variable and closures\n",
        "def outer():\n",
        "  x=\"python\"\n",
        "  def inner():\n",
        "    print(\"{0} rockes\".format(x))\n",
        "  inner()\n",
        "\n",
        "outer()"
      ]
    },
    {
      "cell_type": "code",
      "source": [],
      "metadata": {
        "id": "egwf59z7B-9E"
      },
      "execution_count": null,
      "outputs": []
    }
  ]
}